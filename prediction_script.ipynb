{
  "nbformat": 4,
  "nbformat_minor": 0,
  "metadata": {
    "colab": {
      "name": "prediction script.ipynb",
      "provenance": [],
      "collapsed_sections": [],
      "authorship_tag": "ABX9TyNYbhB2hR/MBxA4jNxto/75",
      "include_colab_link": true
    },
    "kernelspec": {
      "name": "python3",
      "display_name": "Python 3"
    }
  },
  "cells": [
    {
      "cell_type": "markdown",
      "metadata": {
        "id": "view-in-github",
        "colab_type": "text"
      },
      "source": [
        "<a href=\"https://colab.research.google.com/github/asoushawk/octopusguesser/blob/master/prediction_script.ipynb\" target=\"_parent\"><img src=\"https://colab.research.google.com/assets/colab-badge.svg\" alt=\"Open In Colab\"/></a>"
      ]
    },
    {
      "cell_type": "code",
      "metadata": {
        "id": "MZORhe0QDU53"
      },
      "source": [
        "%tensorflow_version 2.x"
      ],
      "execution_count": 68,
      "outputs": []
    },
    {
      "cell_type": "code",
      "metadata": {
        "id": "EPmLVzRbEXrN"
      },
      "source": [
        "!pip install -q sklearn"
      ],
      "execution_count": 15,
      "outputs": []
    },
    {
      "cell_type": "code",
      "metadata": {
        "id": "6trN-dOWQb7T"
      },
      "source": [
        "from __future__ import absolute_import, division, print_function, unicode_literals\r\n",
        "\r\n",
        "import numpy as np\r\n",
        "import pandas as pd\r\n",
        "import matplotlib.pyplot as plt\r\n",
        "from IPython.display import clear_output\r\n",
        "from six.moves import urllib\r\n",
        "\r\n",
        "import tensorflow.compat.v2.feature_column as fc\r\n",
        "\r\n",
        "import tensorflow as tf"
      ],
      "execution_count": 16,
      "outputs": []
    },
    {
      "cell_type": "code",
      "metadata": {
        "colab": {
          "base_uri": "https://localhost:8080/"
        },
        "id": "QbpZjB8NQQok",
        "outputId": "e3b147cd-2986-4fba-fc93-16d4c31dd424"
      },
      "source": [
        "# Load dataset.\r\n",
        "dftrain = pd.read_csv('http://unes.epizy.com/7.csv') # training data\r\n",
        "dfeval = pd.read_csv('http://unes.epizy.com/9.csv') # testing data\r\n",
        "y_train = dftrain.pop('winner')\r\n",
        "print(dftrain.head())\r\n",
        "y_eval = dfeval.pop('winner')\r\n",
        "print(dftrain.head())\r\n"
      ],
      "execution_count": 111,
      "outputs": [
        {
          "output_type": "stream",
          "text": [
            "  top_red_champion  ...  sup_blue_champion_kda\n",
            "0            Urgot  ...               4.366667\n",
            "1            Riven  ...               5.083333\n",
            "2        Gangplank  ...              10.273469\n",
            "3             Sett  ...               4.045455\n",
            "4           Irelia  ...               6.676471\n",
            "\n",
            "[5 rows x 30 columns]\n",
            "  top_red_champion  ...  sup_blue_champion_kda\n",
            "0            Urgot  ...               4.366667\n",
            "1            Riven  ...               5.083333\n",
            "2        Gangplank  ...              10.273469\n",
            "3             Sett  ...               4.045455\n",
            "4           Irelia  ...               6.676471\n",
            "\n",
            "[5 rows x 30 columns]\n"
          ],
          "name": "stdout"
        }
      ]
    },
    {
      "cell_type": "code",
      "metadata": {
        "colab": {
          "base_uri": "https://localhost:8080/"
        },
        "id": "7O2ZKYI6QSHo",
        "outputId": "8fc4b22c-a688-4fcb-dcd7-cfd6155c765a"
      },
      "source": [
        "CATEGORICAL_COLUMNS = [\r\n",
        "\"top_red_champion\", \r\n",
        "\"top_blue_champion\",\r\n",
        "\"jg_red_champion\",\r\n",
        "\"jg_blue_champion\", \r\n",
        "\"mid_red_champion\", \r\n",
        "\"mid_blue_champion\",\r\n",
        "\"adc_red_champion\", \r\n",
        "\"adc_blue_champion\",\r\n",
        "\"sup_red_champion\", \r\n",
        "\"sup_blue_champion\"]\r\n",
        "NUMERIC_COLUMNS = [\"top_red_rota_champion_month\", \"top_red_champion_kda\", \r\n",
        "\"top_blue_rota_champion_month\", \"top_blue_champion_kda\", \r\n",
        "\"jg_red_rota_champion_month\",  \"jg_red_champion_kda\", \r\n",
        "\"jg_blue_rota_champion_month\",  \"jg_blue_champion_kda\", \r\n",
        "\"mid_red_rota_champion_month\", \"mid_red_champion_kda\", \r\n",
        "\"mid_blue_rota_champion_month\",  \"mid_blue_champion_kda\",\r\n",
        "\"adc_red_rota_champion_month\",  \"adc_red_champion_kda\",\r\n",
        "\"adc_blue_rota_champion_month\",  \"adc_blue_champion_kda\",\r\n",
        "\"sup_red_rota_champion_month\",  \"sup_red_champion_kda\",\r\n",
        "\"sup_blue_rota_champion_month\",  \"sup_blue_champion_kda\"]\r\n",
        "\r\n",
        "feature_columns = []\r\n",
        "for feature_name in CATEGORICAL_COLUMNS:\r\n",
        "  vocabulary = dftrain[feature_name].unique()  # gets a list of all unique values from given feature column\r\n",
        "  feature_columns.append(tf.feature_column.categorical_column_with_vocabulary_list(feature_name, vocabulary))\r\n",
        "\r\n",
        "for feature_name in NUMERIC_COLUMNS:\r\n",
        "  feature_columns.append(tf.feature_column.numeric_column(feature_name, dtype=tf.float32))\r\n",
        "\r\n",
        "print(list(feature_columns[1]))"
      ],
      "execution_count": 112,
      "outputs": [
        {
          "output_type": "stream",
          "text": [
            "['top_blue_champion', ('Shaco', 'Urgot', 'Renekton', 'Gnar', 'Gangplank', 'Nocturne', 'Illaoi', 'Singed', 'Pantheon', 'Riven', 'Dr. Mundo', 'Kennen', 'Akali', 'Camille', 'Garen', 'Irelia', 'Jhin', 'Rumble', 'Ezreal', 'Sett', 'Darius', 'Tryndamere', 'Teemo', 'Shen', 'Nasus', 'Sion', 'Aatrox', 'Jax', 'Graves', \"Cho'Gath\", 'Rengar', 'Fiora', 'Yone', 'Zed', 'Yasuo', 'Ahri', 'Azir', 'Varus', 'Caitlyn', 'Volibear'), tf.string, -1, 0]\n"
          ],
          "name": "stdout"
        }
      ]
    },
    {
      "cell_type": "code",
      "metadata": {
        "colab": {
          "base_uri": "https://localhost:8080/",
          "height": 209
        },
        "id": "p3Jhwxi1Ww2s",
        "outputId": "604c8e0d-fef4-49f5-cf6d-40844cc2f296"
      },
      "source": [
        "dftrain.head()"
      ],
      "execution_count": 71,
      "outputs": [
        {
          "output_type": "execute_result",
          "data": {
            "text/html": [
              "<div>\n",
              "<style scoped>\n",
              "    .dataframe tbody tr th:only-of-type {\n",
              "        vertical-align: middle;\n",
              "    }\n",
              "\n",
              "    .dataframe tbody tr th {\n",
              "        vertical-align: top;\n",
              "    }\n",
              "\n",
              "    .dataframe thead th {\n",
              "        text-align: right;\n",
              "    }\n",
              "</style>\n",
              "<table border=\"1\" class=\"dataframe\">\n",
              "  <thead>\n",
              "    <tr style=\"text-align: right;\">\n",
              "      <th></th>\n",
              "      <th>top_red_champion</th>\n",
              "      <th>top_red_rota_champion_month</th>\n",
              "      <th>top_red_champion_kda</th>\n",
              "      <th>top_blue_champion</th>\n",
              "      <th>top_blue_rota_champion_month</th>\n",
              "      <th>top_blue_champion_kda</th>\n",
              "      <th>jg_red_champion</th>\n",
              "      <th>jg_red_rota_champion_month</th>\n",
              "      <th>jg_red_champion_kda</th>\n",
              "      <th>jg_blue_champion</th>\n",
              "      <th>jg_blue_rota_champion_month</th>\n",
              "      <th>jg_blue_champion_kda</th>\n",
              "      <th>mid_red_champion</th>\n",
              "      <th>mid_red_rota_champion_month</th>\n",
              "      <th>mid_red_champion_kda</th>\n",
              "      <th>mid_blue_champion</th>\n",
              "      <th>mid_blue_rota_champion_month</th>\n",
              "      <th>mid_blue_champion_kda</th>\n",
              "      <th>adc_red_champion</th>\n",
              "      <th>adc_red_rota_champion_month</th>\n",
              "      <th>adc_red_champion_kda</th>\n",
              "      <th>adc_blue_champion</th>\n",
              "      <th>adc_blue_rota_champion_month</th>\n",
              "      <th>adc_blue_champion_kda</th>\n",
              "      <th>sup_red_champion</th>\n",
              "      <th>sup_red_rota_champion_month</th>\n",
              "      <th>sup_red_champion_kda</th>\n",
              "      <th>sup_blue_champion</th>\n",
              "      <th>sup_blue_rota_champion_month</th>\n",
              "      <th>sup_blue_champion_kda</th>\n",
              "    </tr>\n",
              "  </thead>\n",
              "  <tbody>\n",
              "    <tr>\n",
              "      <th>0</th>\n",
              "      <td>Urgot</td>\n",
              "      <td>62.0</td>\n",
              "      <td>7.412500</td>\n",
              "      <td>Shaco</td>\n",
              "      <td>49.3</td>\n",
              "      <td>7.933333</td>\n",
              "      <td>Kayn</td>\n",
              "      <td>48.1</td>\n",
              "      <td>11.673810</td>\n",
              "      <td>Zac</td>\n",
              "      <td>83.3</td>\n",
              "      <td>17.000000</td>\n",
              "      <td>Annie</td>\n",
              "      <td>59.7</td>\n",
              "      <td>13.425424</td>\n",
              "      <td>Sett</td>\n",
              "      <td>68.4</td>\n",
              "      <td>13.425424</td>\n",
              "      <td>Jhin</td>\n",
              "      <td>61.5</td>\n",
              "      <td>11.273770</td>\n",
              "      <td>Vayne</td>\n",
              "      <td>50.0</td>\n",
              "      <td>9.285714</td>\n",
              "      <td>Thresh</td>\n",
              "      <td>64.0</td>\n",
              "      <td>6.000000</td>\n",
              "      <td>Nami</td>\n",
              "      <td>55.2</td>\n",
              "      <td>4.366667</td>\n",
              "    </tr>\n",
              "    <tr>\n",
              "      <th>1</th>\n",
              "      <td>Riven</td>\n",
              "      <td>50.4</td>\n",
              "      <td>9.553125</td>\n",
              "      <td>Urgot</td>\n",
              "      <td>62.0</td>\n",
              "      <td>7.412500</td>\n",
              "      <td>Graves</td>\n",
              "      <td>55.6</td>\n",
              "      <td>8.962500</td>\n",
              "      <td>Volibear</td>\n",
              "      <td>56.5</td>\n",
              "      <td>12.971429</td>\n",
              "      <td>Malphite</td>\n",
              "      <td>66.7</td>\n",
              "      <td>9.285714</td>\n",
              "      <td>Irelia</td>\n",
              "      <td>53.8</td>\n",
              "      <td>9.285714</td>\n",
              "      <td>Caitlyn</td>\n",
              "      <td>57.9</td>\n",
              "      <td>9.750000</td>\n",
              "      <td>Ashe</td>\n",
              "      <td>55.8</td>\n",
              "      <td>6.200000</td>\n",
              "      <td>Nami</td>\n",
              "      <td>46.2</td>\n",
              "      <td>7.814815</td>\n",
              "      <td>Lulu</td>\n",
              "      <td>50.0</td>\n",
              "      <td>5.083333</td>\n",
              "    </tr>\n",
              "    <tr>\n",
              "      <th>2</th>\n",
              "      <td>Gangplank</td>\n",
              "      <td>57.1</td>\n",
              "      <td>8.448780</td>\n",
              "      <td>Urgot</td>\n",
              "      <td>62.0</td>\n",
              "      <td>7.412500</td>\n",
              "      <td>Graves</td>\n",
              "      <td>58.8</td>\n",
              "      <td>4.188889</td>\n",
              "      <td>Kha'Zix</td>\n",
              "      <td>54.4</td>\n",
              "      <td>9.544444</td>\n",
              "      <td>Yasuo</td>\n",
              "      <td>58.9</td>\n",
              "      <td>9.285714</td>\n",
              "      <td>Renekton</td>\n",
              "      <td>80.0</td>\n",
              "      <td>9.285714</td>\n",
              "      <td>Caitlyn</td>\n",
              "      <td>44.4</td>\n",
              "      <td>7.033333</td>\n",
              "      <td>Swain</td>\n",
              "      <td>75.0</td>\n",
              "      <td>6.084615</td>\n",
              "      <td>Lulu</td>\n",
              "      <td>58.6</td>\n",
              "      <td>7.000000</td>\n",
              "      <td>Senna</td>\n",
              "      <td>37.5</td>\n",
              "      <td>10.273469</td>\n",
              "    </tr>\n",
              "    <tr>\n",
              "      <th>3</th>\n",
              "      <td>Sett</td>\n",
              "      <td>59.8</td>\n",
              "      <td>10.828571</td>\n",
              "      <td>Urgot</td>\n",
              "      <td>62.0</td>\n",
              "      <td>7.412500</td>\n",
              "      <td>Kayn</td>\n",
              "      <td>61.1</td>\n",
              "      <td>14.800000</td>\n",
              "      <td>Shaco</td>\n",
              "      <td>55.8</td>\n",
              "      <td>10.494444</td>\n",
              "      <td>Akali</td>\n",
              "      <td>56.4</td>\n",
              "      <td>14.510526</td>\n",
              "      <td>Yone</td>\n",
              "      <td>46.7</td>\n",
              "      <td>14.510526</td>\n",
              "      <td>Caitlyn</td>\n",
              "      <td>48.0</td>\n",
              "      <td>4.000000</td>\n",
              "      <td>Ashe</td>\n",
              "      <td>57.5</td>\n",
              "      <td>5.250000</td>\n",
              "      <td>Twitch</td>\n",
              "      <td>57.1</td>\n",
              "      <td>10.625000</td>\n",
              "      <td>Leona</td>\n",
              "      <td>56.7</td>\n",
              "      <td>4.045455</td>\n",
              "    </tr>\n",
              "    <tr>\n",
              "      <th>4</th>\n",
              "      <td>Irelia</td>\n",
              "      <td>52.1</td>\n",
              "      <td>8.041379</td>\n",
              "      <td>Renekton</td>\n",
              "      <td>62.0</td>\n",
              "      <td>8.050000</td>\n",
              "      <td>Lee Sin</td>\n",
              "      <td>37.5</td>\n",
              "      <td>9.771429</td>\n",
              "      <td>Warwick</td>\n",
              "      <td>34.1</td>\n",
              "      <td>10.442857</td>\n",
              "      <td>Ahri</td>\n",
              "      <td>50.0</td>\n",
              "      <td>0.714286</td>\n",
              "      <td>Lux</td>\n",
              "      <td>50.0</td>\n",
              "      <td>0.714286</td>\n",
              "      <td>Jinx</td>\n",
              "      <td>75.0</td>\n",
              "      <td>11.181818</td>\n",
              "      <td>Ezreal</td>\n",
              "      <td>56.3</td>\n",
              "      <td>9.879545</td>\n",
              "      <td>Jhin</td>\n",
              "      <td>50.0</td>\n",
              "      <td>7.500000</td>\n",
              "      <td>Zyra</td>\n",
              "      <td>62.5</td>\n",
              "      <td>6.676471</td>\n",
              "    </tr>\n",
              "  </tbody>\n",
              "</table>\n",
              "</div>"
            ],
            "text/plain": [
              "  top_red_champion  ...  sup_blue_champion_kda\n",
              "0            Urgot  ...               4.366667\n",
              "1            Riven  ...               5.083333\n",
              "2        Gangplank  ...              10.273469\n",
              "3             Sett  ...               4.045455\n",
              "4           Irelia  ...               6.676471\n",
              "\n",
              "[5 rows x 30 columns]"
            ]
          },
          "metadata": {
            "tags": []
          },
          "execution_count": 71
        }
      ]
    },
    {
      "cell_type": "markdown",
      "metadata": {
        "id": "1l5nVb0sTnbt"
      },
      "source": [
        "input function"
      ]
    },
    {
      "cell_type": "code",
      "metadata": {
        "id": "8I6AEwJyTmfm"
      },
      "source": [
        "def make_input_fn(data_df, label_df, num_epochs=30, shuffle=True, batch_size=32):\r\n",
        "  def input_function():  # inner function, this will be returned\r\n",
        "    ds = tf.data.Dataset.from_tensor_slices((dict(data_df), label_df))  # create tf.data.Dataset object with data and its label\r\n",
        "    if shuffle:\r\n",
        "      ds = ds.shuffle(2000)  # randomize order of data\r\n",
        "    ds = ds.batch(batch_size).repeat(num_epochs)  # split dataset into batches of 32 and repeat process for number of epochs\r\n",
        "    return ds  # return a batch of the dataset\r\n",
        "  return input_function  # return a function object for use\r\n",
        "\r\n",
        "train_input_fn = make_input_fn(dftrain, y_train)  # here we will call the input_function that was returned to us to get a dataset object we can feed to the model\r\n",
        "eval_input_fn = make_input_fn(dfeval, y_eval, num_epochs=1, shuffle=False)\r\n"
      ],
      "execution_count": 113,
      "outputs": []
    },
    {
      "cell_type": "code",
      "metadata": {
        "colab": {
          "base_uri": "https://localhost:8080/"
        },
        "id": "62Wnj8T2UnwK",
        "outputId": "042ad3a0-e406-4ff8-be0c-2bbde0699057"
      },
      "source": [
        "linear_est = tf.estimator.LinearClassifier(feature_columns=feature_columns)\r\n",
        "# We create a linear estimtor by passing the feature columns we created earlier"
      ],
      "execution_count": 99,
      "outputs": [
        {
          "output_type": "stream",
          "text": [
            "INFO:tensorflow:Using default config.\n",
            "WARNING:tensorflow:Using temporary folder as model directory: /tmp/tmpbfhqp454\n",
            "INFO:tensorflow:Using config: {'_model_dir': '/tmp/tmpbfhqp454', '_tf_random_seed': None, '_save_summary_steps': 100, '_save_checkpoints_steps': None, '_save_checkpoints_secs': 600, '_session_config': allow_soft_placement: true\n",
            "graph_options {\n",
            "  rewrite_options {\n",
            "    meta_optimizer_iterations: ONE\n",
            "  }\n",
            "}\n",
            ", '_keep_checkpoint_max': 5, '_keep_checkpoint_every_n_hours': 10000, '_log_step_count_steps': 100, '_train_distribute': None, '_device_fn': None, '_protocol': None, '_eval_distribute': None, '_experimental_distribute': None, '_experimental_max_worker_delay_secs': None, '_session_creation_timeout_secs': 7200, '_checkpoint_save_graph_def': True, '_service': None, '_cluster_spec': ClusterSpec({}), '_task_type': 'worker', '_task_id': 0, '_global_id_in_cluster': 0, '_master': '', '_evaluation_master': '', '_is_chief': True, '_num_ps_replicas': 0, '_num_worker_replicas': 1}\n"
          ],
          "name": "stdout"
        }
      ]
    },
    {
      "cell_type": "code",
      "metadata": {
        "colab": {
          "base_uri": "https://localhost:8080/"
        },
        "id": "SygrMIMYUzDL",
        "outputId": "d0f314da-0648-4ceb-81af-44f195cfda73"
      },
      "source": [
        "linear_est.train(train_input_fn)  # train\r\n",
        "result = linear_est.evaluate(eval_input_fn)  # get model metrics/stats by testing on tetsing data\r\n",
        "\r\n",
        "clear_output()  # clears consoke output\r\n",
        "print(result['accuracy'])  # the result variable is simply a dict of stats about our model"
      ],
      "execution_count": 116,
      "outputs": [
        {
          "output_type": "stream",
          "text": [
            "0.71428573\n"
          ],
          "name": "stdout"
        }
      ]
    },
    {
      "cell_type": "code",
      "metadata": {
        "colab": {
          "base_uri": "https://localhost:8080/",
          "height": 462
        },
        "id": "5SRU3vHZo5tH",
        "outputId": "cfb8751b-3c42-4d3e-912c-04380b5cab3d"
      },
      "source": [
        "pred_dicts = list(linear_est.predict(eval_input_fn))\r\n",
        "probs = pd.Series([pred['probabilities'][1] for pred in pred_dicts])\r\n",
        "\r\n",
        "probs.plot(kind='hist', bins=20, title='predicted probabilities')"
      ],
      "execution_count": 10,
      "outputs": [
        {
          "output_type": "stream",
          "text": [
            "INFO:tensorflow:Calling model_fn.\n"
          ],
          "name": "stdout"
        },
        {
          "output_type": "stream",
          "text": [
            "/usr/local/lib/python3.6/dist-packages/tensorflow/python/keras/engine/base_layer_v1.py:1727: UserWarning: `layer.add_variable` is deprecated and will be removed in a future version. Please use `layer.add_weight` method instead.\n",
            "  warnings.warn('`layer.add_variable` is deprecated and '\n"
          ],
          "name": "stderr"
        },
        {
          "output_type": "stream",
          "text": [
            "INFO:tensorflow:Done calling model_fn.\n",
            "INFO:tensorflow:Graph was finalized.\n",
            "INFO:tensorflow:Restoring parameters from /tmp/tmpaznyfuwy/model.ckpt-40\n",
            "INFO:tensorflow:Running local_init_op.\n",
            "INFO:tensorflow:Done running local_init_op.\n"
          ],
          "name": "stdout"
        },
        {
          "output_type": "execute_result",
          "data": {
            "text/plain": [
              "<matplotlib.axes._subplots.AxesSubplot at 0x7f9a64a950b8>"
            ]
          },
          "metadata": {
            "tags": []
          },
          "execution_count": 10
        },
        {
          "output_type": "display_data",
          "data": {
            "image/png": "[encoded data removed]",
            "text/plain": [
              "<Figure size 432x288 with 1 Axes>"
            ]
          },
          "metadata": {
            "tags": [],
            "needs_background": "light"
          }
        }
      ]
    },
    {
      "cell_type": "code",
      "metadata": {
        "colab": {
          "base_uri": "https://localhost:8080/"
        },
        "id": "geOk9W6_VNG6",
        "outputId": "9e856d91-5f4e-4df9-a629-08a0445d255a"
      },
      "source": [
        "result = list(linear_est.predict(eval_input_fn))\r\n",
        "\r\n",
        "p = -1\r\n",
        "for i in range(14):\r\n",
        "  p = p+1\r\n",
        "  print(\"Match ID:\", p)\r\n",
        "  print(result[p]['probabilities'][0],\"Chance do time vermelho ter vencido\")\r\n",
        "  print(result[p]['probabilities'][1],\"Chance do time azul ter vencido\")\r\n",
        "\r\n",
        "\r\n",
        "\r\n",
        "\r\n",
        "  \r\n",
        "\r\n",
        "\r\n",
        "\r\n",
        "\r\n"
      ],
      "execution_count": 143,
      "outputs": [
        {
          "output_type": "stream",
          "text": [
            "INFO:tensorflow:Calling model_fn.\n"
          ],
          "name": "stdout"
        },
        {
          "output_type": "stream",
          "text": [
            "/usr/local/lib/python3.6/dist-packages/tensorflow/python/keras/engine/base_layer_v1.py:1727: UserWarning: `layer.add_variable` is deprecated and will be removed in a future version. Please use `layer.add_weight` method instead.\n",
            "  warnings.warn('`layer.add_variable` is deprecated and '\n"
          ],
          "name": "stderr"
        },
        {
          "output_type": "stream",
          "text": [
            "INFO:tensorflow:Done calling model_fn.\n",
            "INFO:tensorflow:Graph was finalized.\n",
            "INFO:tensorflow:Restoring parameters from /tmp/tmpbfhqp454/model.ckpt-360\n",
            "INFO:tensorflow:Running local_init_op.\n",
            "INFO:tensorflow:Done running local_init_op.\n",
            "Match ID: 0\n",
            "0.9830451 Chance do time vermelho ter vencido\n",
            "0.016954884 Chance do time azul ter vencido\n",
            "Match ID: 1\n",
            "0.3199417 Chance do time vermelho ter vencido\n",
            "0.68005836 Chance do time azul ter vencido\n",
            "Match ID: 2\n",
            "3.60321e-06 Chance do time vermelho ter vencido\n",
            "0.9999964 Chance do time azul ter vencido\n",
            "Match ID: 3\n",
            "0.039833795 Chance do time vermelho ter vencido\n",
            "0.96016616 Chance do time azul ter vencido\n",
            "Match ID: 4\n",
            "0.20453063 Chance do time vermelho ter vencido\n",
            "0.7954694 Chance do time azul ter vencido\n",
            "Match ID: 5\n",
            "0.069074646 Chance do time vermelho ter vencido\n",
            "0.9309253 Chance do time azul ter vencido\n",
            "Match ID: 6\n",
            "0.9819833 Chance do time vermelho ter vencido\n",
            "0.018016674 Chance do time azul ter vencido\n",
            "Match ID: 7\n",
            "0.9813234 Chance do time vermelho ter vencido\n",
            "0.018676598 Chance do time azul ter vencido\n",
            "Match ID: 8\n",
            "0.000693541 Chance do time vermelho ter vencido\n",
            "0.99930644 Chance do time azul ter vencido\n",
            "Match ID: 9\n",
            "0.99897754 Chance do time vermelho ter vencido\n",
            "0.0010224691 Chance do time azul ter vencido\n",
            "Match ID: 10\n",
            "0.000390503 Chance do time vermelho ter vencido\n",
            "0.99960953 Chance do time azul ter vencido\n",
            "Match ID: 11\n",
            "0.45281723 Chance do time vermelho ter vencido\n",
            "0.5471828 Chance do time azul ter vencido\n",
            "Match ID: 12\n",
            "0.0054965736 Chance do time vermelho ter vencido\n",
            "0.9945035 Chance do time azul ter vencido\n",
            "Match ID: 13\n",
            "0.029314766 Chance do time vermelho ter vencido\n",
            "0.9706852 Chance do time azul ter vencido\n"
          ],
          "name": "stdout"
        }
      ]
    }
  ]
}