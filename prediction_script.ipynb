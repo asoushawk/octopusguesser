{
  "nbformat": 4,
  "nbformat_minor": 0,
  "metadata": {
    "colab": {
      "name": "prediction script.ipynb",
      "provenance": [],
      "collapsed_sections": [],
      "authorship_tag": "ABX9TyO1JxmILLmL50axJ5jkIy9Q",
      "include_colab_link": true
    },
    "kernelspec": {
      "name": "python3",
      "display_name": "Python 3"
    }
  },
  "cells": [
    {
      "cell_type": "markdown",
      "metadata": {
        "id": "view-in-github",
        "colab_type": "text"
      },
      "source": [
        "<a href=\"https://colab.research.google.com/github/asoushawk/octopusguesser/blob/master/prediction_script.ipynb\" target=\"_parent\"><img src=\"https://colab.research.google.com/assets/colab-badge.svg\" alt=\"Open In Colab\"/></a>"
      ]
    },
    {
      "cell_type": "code",
      "metadata": {
        "id": "MZORhe0QDU53"
      },
      "source": [
        "%tensorflow_version 2.x"
      ],
      "execution_count": null,
      "outputs": []
    },
    {
      "cell_type": "code",
      "metadata": {
        "id": "EPmLVzRbEXrN"
      },
      "source": [
        "!pip install -q sklearn"
      ],
      "execution_count": null,
      "outputs": []
    },
    {
      "cell_type": "code",
      "metadata": {
        "id": "6trN-dOWQb7T"
      },
      "source": [
        "from __future__ import absolute_import, division, print_function, unicode_literals\r\n",
        "\r\n",
        "import numpy as np\r\n",
        "import pandas as pd\r\n",
        "import matplotlib.pyplot as plt\r\n",
        "from IPython.display import clear_output\r\n",
        "from six.moves import urllib\r\n",
        "\r\n",
        "import tensorflow.compat.v2.feature_column as fc\r\n",
        "\r\n",
        "import tensorflow as tf"
      ],
      "execution_count": null,
      "outputs": []
    },
    {
      "cell_type": "code",
      "metadata": {
        "id": "QbpZjB8NQQok"
      },
      "source": [
        "# Load dataset.\r\n",
        "dftrain = pd.read_csv('http://testbella123.epizy.com/testtest.csv') # training data\r\n",
        "dfeval = pd.read_csv('http://testbella123.epizy.com/train.csv') # testing data\r\n",
        "y_train = dftrain.pop('winner')\r\n",
        "print(dftrain.head())\r\n",
        "y_eval = dfeval.pop('winner')\r\n",
        "print(dftrain.head())\r\n"
      ],
      "execution_count": null,
      "outputs": []
    },
    {
      "cell_type": "code",
      "metadata": {
        "colab": {
          "base_uri": "https://localhost:8080/"
        },
        "id": "7O2ZKYI6QSHo",
        "outputId": "7f3cb6c2-e8da-4934-f4b5-66fe4e2f9bc1"
      },
      "source": [
        "CATEGORICAL_COLUMNS = [\r\n",
        "\"top_red_champion\", \r\n",
        "\"top_blue_champion\",\r\n",
        "\"jg_red_champion\",\r\n",
        "\"jg_blue_champion\", \r\n",
        "\"mid_red_champion\", \r\n",
        "\"mid_blue_champion\",\r\n",
        "\"adc_red_champion\", \r\n",
        "\"adc_blue_champion\",\r\n",
        "\"sup_red_champion\", \r\n",
        "\"sup_blue_champion\"]\r\n",
        "NUMERIC_COLUMNS = [\"top_red_champion_ward\", \"top_red_rota_champion_month\", \"top_red_champion_alltime_wr\", \"top_red_champion_kda\", \r\n",
        "\"top_blue_champion_ward\", \"top_blue_rota_champion_month\", \"top_blue_champion_alltime_wr\", \"top_blue_champion_kda\", \r\n",
        "\"jg_red_champion_ward\", \"jg_red_rota_champion_month\", \"jg_red_champion_alltime_wr\", \"jg_red_champion_kda\", \r\n",
        "\"jg_blue_champion_ward\", \"jg_blue_rota_champion_month\", \"jg_blue_champion_alltime_wr\", \"jg_blue_champion_kda\", \r\n",
        "\"mid_red_champion_ward\", \"mid_red_rota_champion_month\", \"mid_red_champion_alltime_wr\", \"mid_red_champion_kda\", \r\n",
        "\"mid_blue_champion_ward\", \"mid_blue_rota_champion_month\", \"mid_blue_champion_alltime_wr\", \"mid_blue_champion_kda\",\r\n",
        "\"adc_red_champion_ward\", \"adc_red_rota_champion_month\", \"adc_red_champion_alltime_wr\", \"adc_red_champion_kda\",\r\n",
        "\"adc_blue_champion_ward\", \"adc_blue_rota_champion_month\", \"adc_blue_champion_alltime_wr\", \"adc_blue_champion_kda\",\r\n",
        "\"sup_red_champion_ward\", \"sup_red_rota_champion_month\", \"sup_red_champion_alltime_wr\", \"sup_red_champion_kda\",\r\n",
        "\"sup_blue_champion_ward\", \"sup_blue_rota_champion_month\", \"sup_blue_champion_alltime_wr\", \"sup_blue_champion_kda\"]\r\n",
        "\r\n",
        "feature_columns = []\r\n",
        "for feature_name in CATEGORICAL_COLUMNS:\r\n",
        "  vocabulary = dftrain[feature_name].unique()  # gets a list of all unique values from given feature column\r\n",
        "  feature_columns.append(tf.feature_column.categorical_column_with_vocabulary_list(feature_name, vocabulary))\r\n",
        "\r\n",
        "for feature_name in NUMERIC_COLUMNS:\r\n",
        "  feature_columns.append(tf.feature_column.numeric_column(feature_name, dtype=tf.float32))\r\n",
        "\r\n",
        "print(list(feature_columns[49]))"
      ],
      "execution_count": null,
      "outputs": [
        {
          "output_type": "stream",
          "text": [
            "['sup_blue_champion_kda', (1,), None, tf.float32, None]\n"
          ],
          "name": "stdout"
        }
      ]
    },
    {
      "cell_type": "code",
      "metadata": {
        "colab": {
          "base_uri": "https://localhost:8080/",
          "height": 224
        },
        "id": "p3Jhwxi1Ww2s",
        "outputId": "220ebb6e-ed19-4949-c3fa-7102df879dc9"
      },
      "source": [
        "dftrain.head()"
      ],
      "execution_count": null,
      "outputs": [
        {
          "output_type": "execute_result",
          "data": {
            "text/html": [
              "<div>\n",
              "<style scoped>\n",
              "    .dataframe tbody tr th:only-of-type {\n",
              "        vertical-align: middle;\n",
              "    }\n",
              "\n",
              "    .dataframe tbody tr th {\n",
              "        vertical-align: top;\n",
              "    }\n",
              "\n",
              "    .dataframe thead th {\n",
              "        text-align: right;\n",
              "    }\n",
              "</style>\n",
              "<table border=\"1\" class=\"dataframe\">\n",
              "  <thead>\n",
              "    <tr style=\"text-align: right;\">\n",
              "      <th></th>\n",
              "      <th>top_red_champion</th>\n",
              "      <th>top_red_champion_ward</th>\n",
              "      <th>top_red_rota_champion_month</th>\n",
              "      <th>top_red_champion_alltime_wr</th>\n",
              "      <th>top_red_champion_kda</th>\n",
              "      <th>top_blue_champion</th>\n",
              "      <th>top_blue_champion_ward</th>\n",
              "      <th>top_blue_rota_champion_month</th>\n",
              "      <th>top_blue_champion_alltime_wr</th>\n",
              "      <th>top_blue_champion_kda</th>\n",
              "      <th>jg_red_champion</th>\n",
              "      <th>jg_red_champion_ward</th>\n",
              "      <th>jg_red_rota_champion_month</th>\n",
              "      <th>jg_red_champion_alltime_wr</th>\n",
              "      <th>jg_red_champion_kda</th>\n",
              "      <th>jg_blue_champion</th>\n",
              "      <th>jg_blue_champion_ward</th>\n",
              "      <th>jg_blue_rota_champion_month</th>\n",
              "      <th>jg_blue_champion_alltime_wr</th>\n",
              "      <th>jg_blue_champion_kda</th>\n",
              "      <th>mid_red_champion</th>\n",
              "      <th>mid_red_champion_ward</th>\n",
              "      <th>mid_red_rota_champion_month</th>\n",
              "      <th>mid_red_champion_alltime_wr</th>\n",
              "      <th>mid_red_champion_kda</th>\n",
              "      <th>mid_blue_champion</th>\n",
              "      <th>mid_blue_champion_ward</th>\n",
              "      <th>mid_blue_rota_champion_month</th>\n",
              "      <th>mid_blue_champion_alltime_wr</th>\n",
              "      <th>mid_blue_champion_kda</th>\n",
              "      <th>adc_red_champion</th>\n",
              "      <th>adc_red_champion_ward</th>\n",
              "      <th>adc_red_rota_champion_month</th>\n",
              "      <th>adc_red_champion_alltime_wr</th>\n",
              "      <th>adc_red_champion_kda</th>\n",
              "      <th>adc_blue_champion</th>\n",
              "      <th>adc_blue_champion_ward</th>\n",
              "      <th>adc_blue_rota_champion_month</th>\n",
              "      <th>adc_blue_champion_alltime_wr</th>\n",
              "      <th>adc_blue_champion_kda</th>\n",
              "      <th>sup_red_champion</th>\n",
              "      <th>sup_red_champion_ward</th>\n",
              "      <th>sup_red_rota_champion_month</th>\n",
              "      <th>sup_red_champion_alltime_wr</th>\n",
              "      <th>sup_red_champion_kda</th>\n",
              "      <th>sup_blue_champion</th>\n",
              "      <th>sup_blue_champion_ward</th>\n",
              "      <th>sup_blue_rota_champion_month</th>\n",
              "      <th>sup_blue_champion_alltime_wr</th>\n",
              "      <th>sup_blue_champion_kda</th>\n",
              "    </tr>\n",
              "  </thead>\n",
              "  <tbody>\n",
              "    <tr>\n",
              "      <th>0</th>\n",
              "      <td>Renekton</td>\n",
              "      <td>17.3</td>\n",
              "      <td>100.0</td>\n",
              "      <td>47.4</td>\n",
              "      <td>5.400000</td>\n",
              "      <td>Volibear</td>\n",
              "      <td>8.9</td>\n",
              "      <td>62.5</td>\n",
              "      <td>49.7</td>\n",
              "      <td>5.325000</td>\n",
              "      <td>Graves</td>\n",
              "      <td>22.2</td>\n",
              "      <td>75.0</td>\n",
              "      <td>53.6</td>\n",
              "      <td>7.620000</td>\n",
              "      <td>Master Yi</td>\n",
              "      <td>19.8</td>\n",
              "      <td>66.7</td>\n",
              "      <td>57.1</td>\n",
              "      <td>8.800000</td>\n",
              "      <td>Akali</td>\n",
              "      <td>19.4</td>\n",
              "      <td>30.8</td>\n",
              "      <td>50.3</td>\n",
              "      <td>11.723077</td>\n",
              "      <td>Diana</td>\n",
              "      <td>19.8</td>\n",
              "      <td>52.4</td>\n",
              "      <td>52.8</td>\n",
              "      <td>11.723077</td>\n",
              "      <td>Jhin</td>\n",
              "      <td>19.1</td>\n",
              "      <td>35.0</td>\n",
              "      <td>52.5</td>\n",
              "      <td>3.000000</td>\n",
              "      <td>Senna</td>\n",
              "      <td>12.8</td>\n",
              "      <td>55.0</td>\n",
              "      <td>51.7</td>\n",
              "      <td>10.651282</td>\n",
              "      <td>Pantheon</td>\n",
              "      <td>0.5</td>\n",
              "      <td>71.4</td>\n",
              "      <td>54.3</td>\n",
              "      <td>10.469565</td>\n",
              "      <td>Taric</td>\n",
              "      <td>0.1</td>\n",
              "      <td>56.9</td>\n",
              "      <td>52.7</td>\n",
              "      <td>6.700000</td>\n",
              "    </tr>\n",
              "    <tr>\n",
              "      <th>1</th>\n",
              "      <td>Renekton</td>\n",
              "      <td>18.6</td>\n",
              "      <td>50.0</td>\n",
              "      <td>52.5</td>\n",
              "      <td>4.956604</td>\n",
              "      <td>Jax</td>\n",
              "      <td>8.9</td>\n",
              "      <td>51.0</td>\n",
              "      <td>49.7</td>\n",
              "      <td>8.200000</td>\n",
              "      <td>Diana</td>\n",
              "      <td>15.6</td>\n",
              "      <td>41.7</td>\n",
              "      <td>52.2</td>\n",
              "      <td>14.333333</td>\n",
              "      <td>Kayn</td>\n",
              "      <td>18.9</td>\n",
              "      <td>83.3</td>\n",
              "      <td>53.2</td>\n",
              "      <td>1.666667</td>\n",
              "      <td>Annie</td>\n",
              "      <td>19.4</td>\n",
              "      <td>52.4</td>\n",
              "      <td>50.3</td>\n",
              "      <td>6.488679</td>\n",
              "      <td>Lucian</td>\n",
              "      <td>11.3</td>\n",
              "      <td>42.9</td>\n",
              "      <td>55.2</td>\n",
              "      <td>6.488679</td>\n",
              "      <td>Senna</td>\n",
              "      <td>12.8</td>\n",
              "      <td>55.0</td>\n",
              "      <td>51.7</td>\n",
              "      <td>10.651282</td>\n",
              "      <td>Vayne</td>\n",
              "      <td>12.8</td>\n",
              "      <td>52.1</td>\n",
              "      <td>51.7</td>\n",
              "      <td>7.829412</td>\n",
              "      <td>Taric</td>\n",
              "      <td>0.1</td>\n",
              "      <td>56.9</td>\n",
              "      <td>52.7</td>\n",
              "      <td>6.700000</td>\n",
              "      <td>Leona</td>\n",
              "      <td>21.1</td>\n",
              "      <td>56.9</td>\n",
              "      <td>42.9</td>\n",
              "      <td>1.841270</td>\n",
              "    </tr>\n",
              "    <tr>\n",
              "      <th>2</th>\n",
              "      <td>Malphite</td>\n",
              "      <td>11.7</td>\n",
              "      <td>61.9</td>\n",
              "      <td>49.4</td>\n",
              "      <td>4.827273</td>\n",
              "      <td>Gangplank</td>\n",
              "      <td>8.9</td>\n",
              "      <td>54.5</td>\n",
              "      <td>49.7</td>\n",
              "      <td>3.880392</td>\n",
              "      <td>Lee Sin</td>\n",
              "      <td>19.6</td>\n",
              "      <td>100.0</td>\n",
              "      <td>52.1</td>\n",
              "      <td>14.333333</td>\n",
              "      <td>Graves</td>\n",
              "      <td>18.9</td>\n",
              "      <td>22.2</td>\n",
              "      <td>53.2</td>\n",
              "      <td>3.937500</td>\n",
              "      <td>Neeko</td>\n",
              "      <td>19.4</td>\n",
              "      <td>52.4</td>\n",
              "      <td>50.3</td>\n",
              "      <td>7.290909</td>\n",
              "      <td>Yasuo</td>\n",
              "      <td>18.9</td>\n",
              "      <td>31.3</td>\n",
              "      <td>51.1</td>\n",
              "      <td>7.290909</td>\n",
              "      <td>Senna</td>\n",
              "      <td>12.8</td>\n",
              "      <td>55.0</td>\n",
              "      <td>51.7</td>\n",
              "      <td>10.651282</td>\n",
              "      <td>Twitch</td>\n",
              "      <td>12.8</td>\n",
              "      <td>52.3</td>\n",
              "      <td>51.7</td>\n",
              "      <td>10.128571</td>\n",
              "      <td>Alistar</td>\n",
              "      <td>0.1</td>\n",
              "      <td>56.9</td>\n",
              "      <td>52.7</td>\n",
              "      <td>6.150000</td>\n",
              "      <td>Brand</td>\n",
              "      <td>0.3</td>\n",
              "      <td>38.5</td>\n",
              "      <td>47.9</td>\n",
              "      <td>1.841270</td>\n",
              "    </tr>\n",
              "    <tr>\n",
              "      <th>3</th>\n",
              "      <td>Fiora</td>\n",
              "      <td>19.5</td>\n",
              "      <td>25.0</td>\n",
              "      <td>54.8</td>\n",
              "      <td>7.428571</td>\n",
              "      <td>Darius</td>\n",
              "      <td>8.9</td>\n",
              "      <td>41.7</td>\n",
              "      <td>60.9</td>\n",
              "      <td>8.571429</td>\n",
              "      <td>Kayn</td>\n",
              "      <td>19.2</td>\n",
              "      <td>54.5</td>\n",
              "      <td>50.8</td>\n",
              "      <td>14.080822</td>\n",
              "      <td>Shyvana</td>\n",
              "      <td>19.2</td>\n",
              "      <td>28.6</td>\n",
              "      <td>54.8</td>\n",
              "      <td>8.800000</td>\n",
              "      <td>Yasuo</td>\n",
              "      <td>27.4</td>\n",
              "      <td>54.5</td>\n",
              "      <td>55.1</td>\n",
              "      <td>12.735616</td>\n",
              "      <td>Katarina</td>\n",
              "      <td>0.4</td>\n",
              "      <td>36.8</td>\n",
              "      <td>49.8</td>\n",
              "      <td>12.735616</td>\n",
              "      <td>Samira</td>\n",
              "      <td>12.8</td>\n",
              "      <td>55.0</td>\n",
              "      <td>51.7</td>\n",
              "      <td>8.000000</td>\n",
              "      <td>Kog'Maw</td>\n",
              "      <td>17.9</td>\n",
              "      <td>37.5</td>\n",
              "      <td>52.3</td>\n",
              "      <td>10.128571</td>\n",
              "      <td>Taric</td>\n",
              "      <td>0.1</td>\n",
              "      <td>56.9</td>\n",
              "      <td>52.7</td>\n",
              "      <td>6.700000</td>\n",
              "      <td>Leona</td>\n",
              "      <td>0.1</td>\n",
              "      <td>38.5</td>\n",
              "      <td>16.7</td>\n",
              "      <td>2.714286</td>\n",
              "    </tr>\n",
              "    <tr>\n",
              "      <th>4</th>\n",
              "      <td>Sett</td>\n",
              "      <td>16.3</td>\n",
              "      <td>48.0</td>\n",
              "      <td>54.3</td>\n",
              "      <td>10.166667</td>\n",
              "      <td>Darius</td>\n",
              "      <td>8.9</td>\n",
              "      <td>66.7</td>\n",
              "      <td>60.0</td>\n",
              "      <td>6.833333</td>\n",
              "      <td>Kayn</td>\n",
              "      <td>18.4</td>\n",
              "      <td>42.9</td>\n",
              "      <td>60.0</td>\n",
              "      <td>6.785714</td>\n",
              "      <td>Rek'Sai</td>\n",
              "      <td>28.2</td>\n",
              "      <td>51.6</td>\n",
              "      <td>49.1</td>\n",
              "      <td>8.800000</td>\n",
              "      <td>Yasuo</td>\n",
              "      <td>0.2</td>\n",
              "      <td>54.5</td>\n",
              "      <td>52.9</td>\n",
              "      <td>1.200000</td>\n",
              "      <td>Zed</td>\n",
              "      <td>19.8</td>\n",
              "      <td>61.8</td>\n",
              "      <td>52.8</td>\n",
              "      <td>1.200000</td>\n",
              "      <td>Kai'Sa</td>\n",
              "      <td>22.7</td>\n",
              "      <td>35.0</td>\n",
              "      <td>56.1</td>\n",
              "      <td>8.000000</td>\n",
              "      <td>Senna</td>\n",
              "      <td>12.8</td>\n",
              "      <td>55.0</td>\n",
              "      <td>51.7</td>\n",
              "      <td>10.651282</td>\n",
              "      <td>Leona</td>\n",
              "      <td>20.6</td>\n",
              "      <td>53.3</td>\n",
              "      <td>62.2</td>\n",
              "      <td>3.000000</td>\n",
              "      <td>Taric</td>\n",
              "      <td>0.1</td>\n",
              "      <td>56.9</td>\n",
              "      <td>52.7</td>\n",
              "      <td>6.700000</td>\n",
              "    </tr>\n",
              "  </tbody>\n",
              "</table>\n",
              "</div>"
            ],
            "text/plain": [
              "  top_red_champion  ...  sup_blue_champion_kda\n",
              "0         Renekton  ...               6.700000\n",
              "1         Renekton  ...               1.841270\n",
              "2         Malphite  ...               1.841270\n",
              "3            Fiora  ...               2.714286\n",
              "4             Sett  ...               6.700000\n",
              "\n",
              "[5 rows x 50 columns]"
            ]
          },
          "metadata": {
            "tags": []
          },
          "execution_count": 21
        }
      ]
    },
    {
      "cell_type": "markdown",
      "metadata": {
        "id": "1l5nVb0sTnbt"
      },
      "source": [
        "input function"
      ]
    },
    {
      "cell_type": "code",
      "metadata": {
        "id": "8I6AEwJyTmfm"
      },
      "source": [
        "def make_input_fn(data_df, label_df, num_epochs=10, shuffle=True, batch_size=32):\r\n",
        "  def input_function():  # inner function, this will be returned\r\n",
        "    ds = tf.data.Dataset.from_tensor_slices((dict(data_df), label_df))  # create tf.data.Dataset object with data and its label\r\n",
        "    if shuffle:\r\n",
        "      ds = ds.shuffle(1000)  # randomize order of data\r\n",
        "    ds = ds.batch(batch_size).repeat(num_epochs)  # split dataset into batches of 32 and repeat process for number of epochs\r\n",
        "    return ds  # return a batch of the dataset\r\n",
        "  return input_function  # return a function object for use\r\n",
        "\r\n",
        "train_input_fn = make_input_fn(dftrain, y_train)  # here we will call the input_function that was returned to us to get a dataset object we can feed to the model\r\n",
        "eval_input_fn = make_input_fn(dfeval, y_eval, num_epochs=1, shuffle=False)\r\n"
      ],
      "execution_count": null,
      "outputs": []
    },
    {
      "cell_type": "code",
      "metadata": {
        "colab": {
          "base_uri": "https://localhost:8080/"
        },
        "id": "62Wnj8T2UnwK",
        "outputId": "4019b591-109e-4901-91ff-eeaa0a38f8ef"
      },
      "source": [
        "linear_est = tf.estimator.LinearClassifier(feature_columns=feature_columns)\r\n",
        "# We create a linear estimtor by passing the feature columns we created earlier"
      ],
      "execution_count": null,
      "outputs": [
        {
          "output_type": "stream",
          "text": [
            "INFO:tensorflow:Using default config.\n",
            "WARNING:tensorflow:Using temporary folder as model directory: /tmp/tmprz5unanu\n",
            "INFO:tensorflow:Using config: {'_model_dir': '/tmp/tmprz5unanu', '_tf_random_seed': None, '_save_summary_steps': 100, '_save_checkpoints_steps': None, '_save_checkpoints_secs': 600, '_session_config': allow_soft_placement: true\n",
            "graph_options {\n",
            "  rewrite_options {\n",
            "    meta_optimizer_iterations: ONE\n",
            "  }\n",
            "}\n",
            ", '_keep_checkpoint_max': 5, '_keep_checkpoint_every_n_hours': 10000, '_log_step_count_steps': 100, '_train_distribute': None, '_device_fn': None, '_protocol': None, '_eval_distribute': None, '_experimental_distribute': None, '_experimental_max_worker_delay_secs': None, '_session_creation_timeout_secs': 7200, '_checkpoint_save_graph_def': True, '_service': None, '_cluster_spec': ClusterSpec({}), '_task_type': 'worker', '_task_id': 0, '_global_id_in_cluster': 0, '_master': '', '_evaluation_master': '', '_is_chief': True, '_num_ps_replicas': 0, '_num_worker_replicas': 1}\n"
          ],
          "name": "stdout"
        }
      ]
    },
    {
      "cell_type": "code",
      "metadata": {
        "colab": {
          "base_uri": "https://localhost:8080/"
        },
        "id": "SygrMIMYUzDL",
        "outputId": "8cab4a19-30f1-4386-aac9-9d82158947a3"
      },
      "source": [
        "linear_est.train(train_input_fn)  # train\r\n",
        "result = linear_est.evaluate(eval_input_fn)  # get model metrics/stats by testing on tetsing data\r\n",
        "\r\n",
        "clear_output()  # clears consoke output\r\n",
        "print(result['accuracy'])  # the result variable is simply a dict of stats about our model"
      ],
      "execution_count": null,
      "outputs": [
        {
          "output_type": "stream",
          "text": [
            "0.5\n"
          ],
          "name": "stdout"
        }
      ]
    },
    {
      "cell_type": "code",
      "metadata": {
        "colab": {
          "base_uri": "https://localhost:8080/",
          "height": 454
        },
        "id": "5SRU3vHZo5tH",
        "outputId": "03f64c0f-4cc0-434d-8de2-1495ad18b80c"
      },
      "source": [
        "pred_dicts = list(linear_est.predict(eval_input_fn))\r\n",
        "probs = pd.Series([pred['probabilities'][1] for pred in pred_dicts])\r\n",
        "\r\n",
        "probs.plot(kind='hist', bins=20, title='predicted probabilities')"
      ],
      "execution_count": null,
      "outputs": [
        {
          "output_type": "stream",
          "text": [
            "INFO:tensorflow:Calling model_fn.\n"
          ],
          "name": "stdout"
        },
        {
          "output_type": "stream",
          "text": [
            "/usr/local/lib/python3.6/dist-packages/tensorflow/python/keras/engine/base_layer_v1.py:1727: UserWarning: `layer.add_variable` is deprecated and will be removed in a future version. Please use `layer.add_weight` method instead.\n",
            "  warnings.warn('`layer.add_variable` is deprecated and '\n"
          ],
          "name": "stderr"
        },
        {
          "output_type": "stream",
          "text": [
            "INFO:tensorflow:Done calling model_fn.\n",
            "INFO:tensorflow:Graph was finalized.\n",
            "INFO:tensorflow:Restoring parameters from /tmp/tmprz5unanu/model.ckpt-20\n",
            "INFO:tensorflow:Running local_init_op.\n",
            "INFO:tensorflow:Done running local_init_op.\n"
          ],
          "name": "stdout"
        },
        {
          "output_type": "execute_result",
          "data": {
            "text/plain": [
              "<matplotlib.axes._subplots.AxesSubplot at 0x7f8cbcd42b70>"
            ]
          },
          "metadata": {
            "tags": []
          },
          "execution_count": 28
        },
        {
          "output_type": "display_data",
          "data": {
            "image/png": "[encoded data removed]",
            "text/plain": [
              "<Figure size 432x288 with 1 Axes>"
            ]
          },
          "metadata": {
            "tags": [],
            "needs_background": "light"
          }
        }
      ]
    },
    {
      "cell_type": "code",
      "metadata": {
        "colab": {
          "base_uri": "https://localhost:8080/"
        },
        "id": "geOk9W6_VNG6",
        "outputId": "fc972195-3c24-459a-e08d-421aad419673"
      },
      "source": [
        "result = list(linear_est.predict(eval_input_fn))\r\n",
        "print(dfeval.loc[1])\r\n",
        "print(y_eval.loc[1])\r\n",
        "print(result[1]['probabilities'][1])"
      ],
      "execution_count": null,
      "outputs": [
        {
          "output_type": "stream",
          "text": [
            "INFO:tensorflow:Calling model_fn.\n"
          ],
          "name": "stdout"
        },
        {
          "output_type": "stream",
          "text": [
            "/usr/local/lib/python3.6/dist-packages/tensorflow/python/keras/engine/base_layer_v1.py:1727: UserWarning: `layer.add_variable` is deprecated and will be removed in a future version. Please use `layer.add_weight` method instead.\n",
            "  warnings.warn('`layer.add_variable` is deprecated and '\n"
          ],
          "name": "stderr"
        },
        {
          "output_type": "stream",
          "text": [
            "INFO:tensorflow:Done calling model_fn.\n",
            "INFO:tensorflow:Graph was finalized.\n",
            "INFO:tensorflow:Restoring parameters from /tmp/tmprz5unanu/model.ckpt-20\n",
            "INFO:tensorflow:Running local_init_op.\n",
            "INFO:tensorflow:Done running local_init_op.\n",
            "top_red_champion                   Teemo\n",
            "top_red_champion_ward                 13\n",
            "top_red_rota_champion_month            0\n",
            "top_red_champion_alltime_wr         37.9\n",
            "top_red_champion_kda             5.99767\n",
            "top_blue_champion                  Poppy\n",
            "top_blue_champion_ward               8.9\n",
            "top_blue_rota_champion_month          75\n",
            "top_blue_champion_alltime_wr        53.3\n",
            "top_blue_champion_kda            7.15714\n",
            "jg_red_champion                   Rengar\n",
            "jg_red_champion_ward                11.3\n",
            "jg_red_rota_champion_month          48.5\n",
            "jg_red_champion_alltime_wr          32.3\n",
            "jg_red_champion_kda              6.15385\n",
            "jg_blue_champion                    Olaf\n",
            "jg_blue_champion_ward               23.1\n",
            "jg_blue_rota_champion_month         83.3\n",
            "jg_blue_champion_alltime_wr           57\n",
            "jg_blue_champion_kda                 9.2\n",
            "mid_red_champion                    Fizz\n",
            "mid_red_champion_ward               24.5\n",
            "mid_red_rota_champion_month           60\n",
            "mid_red_champion_alltime_wr            0\n",
            "mid_red_champion_kda             10.3488\n",
            "mid_blue_champion               Katarina\n",
            "mid_blue_champion_ward               0.8\n",
            "mid_blue_rota_champion_month        52.6\n",
            "mid_blue_champion_alltime_wr        49.2\n",
            "mid_blue_champion_kda            10.3488\n",
            "adc_red_champion                  Twitch\n",
            "adc_red_champion_ward               25.7\n",
            "adc_red_rota_champion_month           50\n",
            "adc_red_champion_alltime_wr         53.7\n",
            "adc_red_champion_kda             9.77778\n",
            "adc_blue_champion                  Vayne\n",
            "adc_blue_champion_ward               0.4\n",
            "adc_blue_rota_champion_month          55\n",
            "adc_blue_champion_alltime_wr        22.2\n",
            "adc_blue_champion_kda            6.13333\n",
            "sup_red_champion                    Rell\n",
            "sup_red_champion_ward                  0\n",
            "sup_red_rota_champion_month           50\n",
            "sup_red_champion_alltime_wr         57.1\n",
            "sup_red_champion_kda             7.57143\n",
            "sup_blue_champion                 Xerath\n",
            "sup_blue_champion_ward               0.1\n",
            "sup_blue_rota_champion_month        64.3\n",
            "sup_blue_champion_alltime_wr        55.6\n",
            "sup_blue_champion_kda            3.68333\n",
            "Name: 1, dtype: object\n",
            "1\n",
            "0.0016551755\n"
          ],
          "name": "stdout"
        }
      ]
    }
  ]
}