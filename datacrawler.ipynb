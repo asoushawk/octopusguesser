{
  "nbformat": 4,
  "nbformat_minor": 0,
  "metadata": {
    "colab": {
      "name": "datacrawler.ipynb",
      "provenance": [],
      "authorship_tag": "ABX9TyPiCW28T+/W/Yycil0q9vZY",
      "include_colab_link": true
    },
    "kernelspec": {
      "name": "python3",
      "display_name": "Python 3"
    }
  },
  "cells": [
    {
      "cell_type": "markdown",
      "metadata": {
        "id": "view-in-github",
        "colab_type": "text"
      },
      "source": [
        "<a href=\"https://colab.research.google.com/github/asoushawk/octopusguesser/blob/master/datacrawler.ipynb\" target=\"_parent\"><img src=\"https://colab.research.google.com/assets/colab-badge.svg\" alt=\"Open In Colab\"/></a>"
      ]
    },
    {
      "cell_type": "code",
      "metadata": {
        "colab": {
          "base_uri": "https://localhost:8080/"
        },
        "id": "s_X_KXFWZrO6",
        "outputId": "162c75da-887e-4a28-cf03-3c15a2af7d79"
      },
      "source": [
        "!pip install selenium"
      ],
      "execution_count": 2,
      "outputs": [
        {
          "output_type": "stream",
          "text": [
            "Collecting selenium\n",
            "\u001b[?25l  Downloading https://files.pythonhosted.org/packages/80/d6/4294f0b4bce4de0abf13e17190289f9d0613b0a44e5dd6a7f5ca98459853/selenium-3.141.0-py2.py3-none-any.whl (904kB)\n",
            "\u001b[K     |████████████████████████████████| 911kB 5.8MB/s \n",
            "\u001b[?25hRequirement already satisfied: urllib3 in /usr/local/lib/python3.6/dist-packages (from selenium) (1.24.3)\n",
            "Installing collected packages: selenium\n",
            "Successfully installed selenium-3.141.0\n"
          ],
          "name": "stdout"
        }
      ]
    },
    {
      "cell_type": "code",
      "metadata": {
        "id": "sXZyDRw3ZHrS"
      },
      "source": [
        "import csv\r\n",
        "from selenium import webdriver\r\n",
        "from selenium.webdriver.chrome.options import Options\r\n",
        "from selenium.webdriver.common.keys import Keys\r\n",
        "import time\r\n",
        "from datetime import date, datetime, timedelta\r\n",
        "import os"
      ],
      "execution_count": 3,
      "outputs": []
    }
  ]
}