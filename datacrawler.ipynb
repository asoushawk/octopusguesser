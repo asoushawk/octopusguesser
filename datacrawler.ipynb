import csv
from selenium import webdriver
from selenium.webdriver.chrome.options import Options
from selenium.webdriver.common.keys import Keys
import time
from datetime import date, datetime, timedelta
import os
