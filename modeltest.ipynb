{
  "nbformat": 4,
  "nbformat_minor": 0,
  "metadata": {
    "colab": {
      "name": "prediction script.ipynb",
      "provenance": [],
      "collapsed_sections": [],
      "authorship_tag": "ABX9TyNGxH+CgfzFb26hd1Seis2r",
      "include_colab_link": true
    },
    "kernelspec": {
      "name": "python3",
      "display_name": "Python 3"
    }
  },
  "cells": [
    {
      "cell_type": "markdown",
      "metadata": {
        "id": "view-in-github",
        "colab_type": "text"
      },
      "source": [
        "<a href=\"https://colab.research.google.com/github/asoushawk/octopusguesser/blob/master/prediction_script1.ipynb\" target=\"_parent\"><img src=\"https://colab.research.google.com/assets/colab-badge.svg\" alt=\"Open In Colab\"/></a>"
      ]
    },
    {
      "cell_type": "code",
      "metadata": {
        "id": "MZORhe0QDU53"
      },
      "source": [
        "%tensorflow_version 2.x"
      ],
      "execution_count": 24,
      "outputs": []
    },
    {
      "cell_type": "code",
      "metadata": {
        "id": "EPmLVzRbEXrN"
      },
      "source": [
        "!pip install -q sklearn"
      ],
      "execution_count": 25,
      "outputs": []
    },
    {
      "cell_type": "code",
      "metadata": {
        "id": "6trN-dOWQb7T"
      },
      "source": [
        "from __future__ import absolute_import, division, print_function, unicode_literals\r\n",
        "\r\n",
        "import numpy as np\r\n",
        "import pandas as pd\r\n",
        "import matplotlib.pyplot as plt\r\n",
        "from IPython.display import clear_output\r\n",
        "from six.moves import urllib\r\n",
        "import time\r\n",
        "\r\n",
        "import tensorflow.compat.v2.feature_column as fc\r\n",
        "\r\n",
        "import tensorflow as tf"
      ],
      "execution_count": 132,
      "outputs": []
    },
    {
      "cell_type": "code",
      "metadata": {
        "colab": {
          "base_uri": "https://localhost:8080/"
        },
        "id": "QbpZjB8NQQok",
        "outputId": "8c637246-1ade-4de4-f6a8-31c445666e8f"
      },
      "source": [
        "# Load dataset.\r\n",
        "dftrain = pd.read_csv('http://unes.epizy.com/treino.csv') # training data\r\n",
        "dfeval = pd.read_csv('http://unes.epizy.com/12.csv') # testing data\r\n",
        "eval = pd.read_csv('http://unes.epizy.com/12.csv')\r\n",
        "y_train = dftrain.pop('winner')\r\n",
        "print(dftrain.head())\r\n",
        "y_eval = dfeval.pop('winner')\r\n",
        "print(dfeval.head())\r\n"
      ],
      "execution_count": 110,
      "outputs": [
        {
          "output_type": "stream",
          "text": [
            "  top_red_champion  ...  sup_blue_champion_kda\n",
            "0            Yasuo  ...               6.700000\n",
            "1         Renekton  ...               6.700000\n",
            "2         Renekton  ...               2.483333\n",
            "3         Malphite  ...               2.526316\n",
            "4            Fiora  ...               2.153846\n",
            "\n",
            "[5 rows x 30 columns]\n",
            "  top_red_champion  ...  sup_blue_champion_kda\n",
            "0            Yasuo  ...               6.700000\n",
            "1         Renekton  ...               6.700000\n",
            "2         Renekton  ...               2.483333\n",
            "3         Malphite  ...               2.526316\n",
            "4            Fiora  ...               2.153846\n",
            "\n",
            "[5 rows x 30 columns]\n"
          ],
          "name": "stdout"
        }
      ]
    },
    {
      "cell_type": "code",
      "metadata": {
        "colab": {
          "base_uri": "https://localhost:8080/"
        },
        "id": "7O2ZKYI6QSHo",
        "outputId": "e18db2c3-afc1-44ef-fd73-15cbf134e4e5"
      },
      "source": [
        "CATEGORICAL_COLUMNS = []\r\n",
        "NUMERIC_COLUMNS = [\"top_red_rota_champion_month\", \"top_red_champion_kda\", \r\n",
        "\"top_blue_rota_champion_month\", \"top_blue_champion_kda\", \r\n",
        "\"jg_red_rota_champion_month\",  \"jg_red_champion_kda\", \r\n",
        "\"jg_blue_rota_champion_month\",  \"jg_blue_champion_kda\", \r\n",
        "\"mid_red_rota_champion_month\", \"mid_red_champion_kda\", \r\n",
        "\"mid_blue_rota_champion_month\",  \"mid_blue_champion_kda\",\r\n",
        "\"adc_red_rota_champion_month\",  \"adc_red_champion_kda\",\r\n",
        "\"adc_blue_rota_champion_month\",  \"adc_blue_champion_kda\",\r\n",
        "\"sup_red_rota_champion_month\",  \"sup_red_champion_kda\",\r\n",
        "\"sup_blue_rota_champion_month\",  \"sup_blue_champion_kda\"]\r\n",
        "\r\n",
        "feature_columns = []\r\n",
        "for feature_name in CATEGORICAL_COLUMNS:\r\n",
        "  vocabulary = dftrain[feature_name].unique()  # gets a list of all unique values from given feature column\r\n",
        "  feature_columns.append(tf.feature_column.categorical_column_with_vocabulary_list(feature_name, vocabulary))\r\n",
        "\r\n",
        "for feature_name in NUMERIC_COLUMNS:\r\n",
        "  feature_columns.append(tf.feature_column.numeric_column(feature_name, dtype=tf.float32))\r\n",
        "\r\n",
        "print(list(feature_columns[1]))"
      ],
      "execution_count": 85,
      "outputs": [
        {
          "output_type": "stream",
          "text": [
            "['top_red_champion_kda', (1,), None, tf.float32, None]\n"
          ],
          "name": "stdout"
        }
      ]
    },
    {
      "cell_type": "code",
      "metadata": {
        "colab": {
          "base_uri": "https://localhost:8080/",
          "height": 209
        },
        "id": "p3Jhwxi1Ww2s",
        "outputId": "767c6be3-3ff1-4330-800d-a145173dfbed"
      },
      "source": [
        "dftrain.head()"
      ],
      "execution_count": 53,
      "outputs": [
        {
          "output_type": "execute_result",
          "data": {
            "text/html": [
              "<div>\n",
              "<style scoped>\n",
              "    .dataframe tbody tr th:only-of-type {\n",
              "        vertical-align: middle;\n",
              "    }\n",
              "\n",
              "    .dataframe tbody tr th {\n",
              "        vertical-align: top;\n",
              "    }\n",
              "\n",
              "    .dataframe thead th {\n",
              "        text-align: right;\n",
              "    }\n",
              "</style>\n",
              "<table border=\"1\" class=\"dataframe\">\n",
              "  <thead>\n",
              "    <tr style=\"text-align: right;\">\n",
              "      <th></th>\n",
              "      <th>top_red_champion</th>\n",
              "      <th>top_red_rota_champion_month</th>\n",
              "      <th>top_red_champion_kda</th>\n",
              "      <th>top_blue_champion</th>\n",
              "      <th>top_blue_rota_champion_month</th>\n",
              "      <th>top_blue_champion_kda</th>\n",
              "      <th>jg_red_champion</th>\n",
              "      <th>jg_red_rota_champion_month</th>\n",
              "      <th>jg_red_champion_kda</th>\n",
              "      <th>jg_blue_champion</th>\n",
              "      <th>jg_blue_rota_champion_month</th>\n",
              "      <th>jg_blue_champion_kda</th>\n",
              "      <th>mid_red_champion</th>\n",
              "      <th>mid_red_rota_champion_month</th>\n",
              "      <th>mid_red_champion_kda</th>\n",
              "      <th>mid_blue_champion</th>\n",
              "      <th>mid_blue_rota_champion_month</th>\n",
              "      <th>mid_blue_champion_kda</th>\n",
              "      <th>adc_red_champion</th>\n",
              "      <th>adc_red_rota_champion_month</th>\n",
              "      <th>adc_red_champion_kda</th>\n",
              "      <th>adc_blue_champion</th>\n",
              "      <th>adc_blue_rota_champion_month</th>\n",
              "      <th>adc_blue_champion_kda</th>\n",
              "      <th>sup_red_champion</th>\n",
              "      <th>sup_red_rota_champion_month</th>\n",
              "      <th>sup_red_champion_kda</th>\n",
              "      <th>sup_blue_champion</th>\n",
              "      <th>sup_blue_rota_champion_month</th>\n",
              "      <th>sup_blue_champion_kda</th>\n",
              "      <th>id</th>\n",
              "    </tr>\n",
              "  </thead>\n",
              "  <tbody>\n",
              "    <tr>\n",
              "      <th>0</th>\n",
              "      <td>Yasuo</td>\n",
              "      <td>51.7</td>\n",
              "      <td>4.363636</td>\n",
              "      <td>Heimerdinger</td>\n",
              "      <td>52.9</td>\n",
              "      <td>4.750000</td>\n",
              "      <td>Master Yi</td>\n",
              "      <td>62.5</td>\n",
              "      <td>6.333333</td>\n",
              "      <td>Kindred</td>\n",
              "      <td>75.0</td>\n",
              "      <td>17.000000</td>\n",
              "      <td>Blitzcrank</td>\n",
              "      <td>44.4</td>\n",
              "      <td>3.888889</td>\n",
              "      <td>Sett</td>\n",
              "      <td>50.0</td>\n",
              "      <td>3.888889</td>\n",
              "      <td>Miss Fortune</td>\n",
              "      <td>55.0</td>\n",
              "      <td>16.17619</td>\n",
              "      <td>Lucian</td>\n",
              "      <td>50.0</td>\n",
              "      <td>7.846154</td>\n",
              "      <td>Zoe</td>\n",
              "      <td>56.3</td>\n",
              "      <td>11.333333</td>\n",
              "      <td>Thresh</td>\n",
              "      <td>81.8</td>\n",
              "      <td>3.461538</td>\n",
              "      <td>0</td>\n",
              "    </tr>\n",
              "    <tr>\n",
              "      <th>1</th>\n",
              "      <td>Darius</td>\n",
              "      <td>42.9</td>\n",
              "      <td>4.363636</td>\n",
              "      <td>Garen</td>\n",
              "      <td>51.7</td>\n",
              "      <td>8.621622</td>\n",
              "      <td>Shaco</td>\n",
              "      <td>61.5</td>\n",
              "      <td>26.875000</td>\n",
              "      <td>Lillia</td>\n",
              "      <td>57.1</td>\n",
              "      <td>7.952113</td>\n",
              "      <td>Ahri</td>\n",
              "      <td>50.0</td>\n",
              "      <td>3.888889</td>\n",
              "      <td>Azir</td>\n",
              "      <td>33.3</td>\n",
              "      <td>3.888889</td>\n",
              "      <td>Caitlyn</td>\n",
              "      <td>52.9</td>\n",
              "      <td>8.87500</td>\n",
              "      <td>Jhin</td>\n",
              "      <td>40.0</td>\n",
              "      <td>14.766667</td>\n",
              "      <td>Morgana</td>\n",
              "      <td>53.3</td>\n",
              "      <td>5.977778</td>\n",
              "      <td>Senna</td>\n",
              "      <td>46.2</td>\n",
              "      <td>8.825397</td>\n",
              "      <td>1</td>\n",
              "    </tr>\n",
              "    <tr>\n",
              "      <th>2</th>\n",
              "      <td>Soraka</td>\n",
              "      <td>18.8</td>\n",
              "      <td>3.120548</td>\n",
              "      <td>Kayn</td>\n",
              "      <td>50.0</td>\n",
              "      <td>8.621622</td>\n",
              "      <td>Zoe</td>\n",
              "      <td>45.8</td>\n",
              "      <td>26.875000</td>\n",
              "      <td>Ziggs</td>\n",
              "      <td>50.0</td>\n",
              "      <td>7.952113</td>\n",
              "      <td>Shen</td>\n",
              "      <td>0.0</td>\n",
              "      <td>3.888889</td>\n",
              "      <td>Amumu</td>\n",
              "      <td>66.7</td>\n",
              "      <td>3.888889</td>\n",
              "      <td>Tristana</td>\n",
              "      <td>50.0</td>\n",
              "      <td>8.87500</td>\n",
              "      <td>Kassadin</td>\n",
              "      <td>27.3</td>\n",
              "      <td>14.766667</td>\n",
              "      <td>Kha'Zix</td>\n",
              "      <td>50.0</td>\n",
              "      <td>5.977778</td>\n",
              "      <td>Anivia</td>\n",
              "      <td>50.0</td>\n",
              "      <td>8.825397</td>\n",
              "      <td>2</td>\n",
              "    </tr>\n",
              "    <tr>\n",
              "      <th>3</th>\n",
              "      <td>Vayne</td>\n",
              "      <td>66.7</td>\n",
              "      <td>3.120548</td>\n",
              "      <td>Alistar</td>\n",
              "      <td>68.8</td>\n",
              "      <td>8.621622</td>\n",
              "      <td>Ornn</td>\n",
              "      <td>50.0</td>\n",
              "      <td>26.875000</td>\n",
              "      <td>Ezreal</td>\n",
              "      <td>50.0</td>\n",
              "      <td>7.952113</td>\n",
              "      <td>Jinx</td>\n",
              "      <td>50.0</td>\n",
              "      <td>3.888889</td>\n",
              "      <td>Ziggs</td>\n",
              "      <td>50.0</td>\n",
              "      <td>3.888889</td>\n",
              "      <td>Amumu</td>\n",
              "      <td>50.0</td>\n",
              "      <td>8.87500</td>\n",
              "      <td>Karma</td>\n",
              "      <td>50.0</td>\n",
              "      <td>14.766667</td>\n",
              "      <td>Yone</td>\n",
              "      <td>50.0</td>\n",
              "      <td>5.977778</td>\n",
              "      <td>Twisted Fate</td>\n",
              "      <td>50.0</td>\n",
              "      <td>8.825397</td>\n",
              "      <td>3</td>\n",
              "    </tr>\n",
              "    <tr>\n",
              "      <th>4</th>\n",
              "      <td>Diana</td>\n",
              "      <td>50.0</td>\n",
              "      <td>3.120548</td>\n",
              "      <td>Annie</td>\n",
              "      <td>66.7</td>\n",
              "      <td>8.621622</td>\n",
              "      <td>Lulu</td>\n",
              "      <td>50.0</td>\n",
              "      <td>26.875000</td>\n",
              "      <td>Graves</td>\n",
              "      <td>40.0</td>\n",
              "      <td>7.952113</td>\n",
              "      <td>Kennen</td>\n",
              "      <td>50.0</td>\n",
              "      <td>6.000000</td>\n",
              "      <td>Lucian</td>\n",
              "      <td>100.0</td>\n",
              "      <td>6.000000</td>\n",
              "      <td>Ezreal</td>\n",
              "      <td>66.7</td>\n",
              "      <td>8.87500</td>\n",
              "      <td>Nautilus</td>\n",
              "      <td>100.0</td>\n",
              "      <td>14.766667</td>\n",
              "      <td>Heimerdinger</td>\n",
              "      <td>50.0</td>\n",
              "      <td>5.977778</td>\n",
              "      <td>Karma</td>\n",
              "      <td>41.7</td>\n",
              "      <td>8.825397</td>\n",
              "      <td>4</td>\n",
              "    </tr>\n",
              "  </tbody>\n",
              "</table>\n",
              "</div>"
            ],
            "text/plain": [
              "  top_red_champion  top_red_rota_champion_month  ...  sup_blue_champion_kda id\n",
              "0            Yasuo                         51.7  ...               3.461538  0\n",
              "1           Darius                         42.9  ...               8.825397  1\n",
              "2           Soraka                         18.8  ...               8.825397  2\n",
              "3            Vayne                         66.7  ...               8.825397  3\n",
              "4            Diana                         50.0  ...               8.825397  4\n",
              "\n",
              "[5 rows x 31 columns]"
            ]
          },
          "metadata": {
            "tags": []
          },
          "execution_count": 53
        }
      ]
    },
    {
      "cell_type": "markdown",
      "metadata": {
        "id": "1l5nVb0sTnbt"
      },
      "source": [
        "input function"
      ]
    },
    {
      "cell_type": "code",
      "metadata": {
        "id": "8I6AEwJyTmfm"
      },
      "source": [
        "def make_input_fn(data_df, label_df, num_epochs=30, shuffle=True, batch_size=32):\r\n",
        "  def input_function():  # inner function, this will be returned\r\n",
        "    ds = tf.data.Dataset.from_tensor_slices((dict(data_df), label_df))  # create tf.data.Dataset object with data and its label\r\n",
        "    if shuffle:\r\n",
        "      ds = ds.shuffle(1000)  # randomize order of data\r\n",
        "    ds = ds.batch(batch_size).repeat(num_epochs)  # split dataset into batches of 32 and repeat process for number of epochs\r\n",
        "    return ds  # return a batch of the dataset\r\n",
        "  return input_function  # return a function object for use\r\n",
        "\r\n",
        "train_input_fn = make_input_fn(dftrain, y_train)  # here we will call the input_function that was returned to us to get a dataset object we can feed to the model\r\n",
        "eval_input_fn = make_input_fn(dfeval, y_eval, num_epochs=1, shuffle=False)\r\n"
      ],
      "execution_count": 86,
      "outputs": []
    },
    {
      "cell_type": "code",
      "metadata": {
        "colab": {
          "base_uri": "https://localhost:8080/"
        },
        "id": "62Wnj8T2UnwK",
        "outputId": "69f48aa7-8f4e-45d8-b135-3150469014f0"
      },
      "source": [
        "linear_est = tf.estimator.LinearClassifier(feature_columns=feature_columns)\r\n",
        "# We create a linear estimtor by passing the feature columns we created earlier"
      ],
      "execution_count": 64,
      "outputs": [
        {
          "output_type": "stream",
          "text": [
            "INFO:tensorflow:Using default config.\n",
            "WARNING:tensorflow:Using temporary folder as model directory: /tmp/tmpwh7phvjw\n",
            "INFO:tensorflow:Using config: {'_model_dir': '/tmp/tmpwh7phvjw', '_tf_random_seed': None, '_save_summary_steps': 100, '_save_checkpoints_steps': None, '_save_checkpoints_secs': 600, '_session_config': allow_soft_placement: true\n",
            "graph_options {\n",
            "  rewrite_options {\n",
            "    meta_optimizer_iterations: ONE\n",
            "  }\n",
            "}\n",
            ", '_keep_checkpoint_max': 5, '_keep_checkpoint_every_n_hours': 10000, '_log_step_count_steps': 100, '_train_distribute': None, '_device_fn': None, '_protocol': None, '_eval_distribute': None, '_experimental_distribute': None, '_experimental_max_worker_delay_secs': None, '_session_creation_timeout_secs': 7200, '_checkpoint_save_graph_def': True, '_service': None, '_cluster_spec': ClusterSpec({}), '_task_type': 'worker', '_task_id': 0, '_global_id_in_cluster': 0, '_master': '', '_evaluation_master': '', '_is_chief': True, '_num_ps_replicas': 0, '_num_worker_replicas': 1}\n"
          ],
          "name": "stdout"
        }
      ]
    },
    {
      "cell_type": "code",
      "metadata": {
        "colab": {
          "base_uri": "https://localhost:8080/"
        },
        "id": "SygrMIMYUzDL",
        "outputId": "b79892a1-a3f9-46a1-a8e3-6dd358fd24cf"
      },
      "source": [
        "linear_est.train(train_input_fn)  # train\r\n",
        "result = linear_est.evaluate(eval_input_fn)  # get model metrics/stats by testing on tetsing data\r\n",
        "\r\n",
        "clear_output()  # clears consoke output\r\n",
        "print(result['accuracy'])  # the result variable is simply a dict of stats about our model"
      ],
      "execution_count": 135,
      "outputs": [
        {
          "output_type": "stream",
          "text": [
            "0.84615386\n"
          ],
          "name": "stdout"
        }
      ]
    },
    {
      "cell_type": "code",
      "metadata": {
        "colab": {
          "base_uri": "https://localhost:8080/",
          "height": 442
        },
        "id": "5SRU3vHZo5tH",
        "outputId": "cfb8751b-3c42-4d3e-912c-04380b5cab3d"
      },
      "source": [
        "pred_dicts = list(linear_est.predict(eval_input_fn))\r\n",
        "probs = pd.Series([pred['probabilities'][1] for pred in pred_dicts])\r\n",
        "\r\n",
        "probs.plot(kind='hist', bins=20, title='predicted probabilities')"
      ],
      "execution_count": null,
      "outputs": [
        {
          "output_type": "stream",
          "text": [
            "INFO:tensorflow:Calling model_fn.\n"
          ],
          "name": "stdout"
        },
        {
          "output_type": "stream",
          "text": [
            "/usr/local/lib/python3.6/dist-packages/tensorflow/python/keras/engine/base_layer_v1.py:1727: UserWarning: `layer.add_variable` is deprecated and will be removed in a future version. Please use `layer.add_weight` method instead.\n",
            "  warnings.warn('`layer.add_variable` is deprecated and '\n"
          ],
          "name": "stderr"
        },
        {
          "output_type": "stream",
          "text": [
            "INFO:tensorflow:Done calling model_fn.\n",
            "INFO:tensorflow:Graph was finalized.\n",
            "INFO:tensorflow:Restoring parameters from /tmp/tmpaznyfuwy/model.ckpt-40\n",
            "INFO:tensorflow:Running local_init_op.\n",
            "INFO:tensorflow:Done running local_init_op.\n"
          ],
          "name": "stdout"
        },
        {
          "output_type": "execute_result",
          "data": {
            "text/plain": [
              "<matplotlib.axes._subplots.AxesSubplot at 0x7f9a64a950b8>"
            ]
          },
          "metadata": {
            "tags": []
          },
          "execution_count": 10
        },
        {
          "output_type": "display_data",
          "data": {
            "image/png": "[encoded data removed]",
            "text/plain": [
              "<Figure size 432x288 with 1 Axes>"
            ]
          },
          "metadata": {
            "tags": [],
            "needs_background": "light"
          }
        }
      ]
    },
    {
      "cell_type": "code",
      "metadata": {
        "colab": {
          "base_uri": "https://localhost:8080/",
          "height": 1000
        },
        "id": "geOk9W6_VNG6",
        "outputId": "80923259-2279-4ff4-cfad-063aead3d637"
      },
      "source": [
        "result = list(linear_est.predict(eval_input_fn))\r\n",
        "p = 0\r\n",
        "redwincount = 0\r\n",
        "bluewincount = 0\r\n",
        "erros = 0\r\n",
        "acertos = 0\r\n",
        "\r\n",
        "for _ in range(103):\r\n",
        "  time.sleep(1)\r\n",
        "  winner_ = eval.iat[p,30]\r\n",
        "  print(p)\r\n",
        "  resultblue = float(result[p]['probabilities'][1])\r\n",
        "  resultred = float(result[p]['probabilities'][0])\r\n",
        "  print(resultblue * 100, \"% de chance\")\r\n",
        "  print(resultred * 100, \"% de chance\")\r\n",
        "  \r\n",
        "  p = p + 1\r\n",
        "  print(\"Acho que o vencedor foi o:\", winner_)\r\n",
        " \r\n",
        "  \r\n",
        "  if resultred > 0.500000:\r\n",
        "    redwincount = redwincount + 1\r\n",
        "    print(\"Bluewincount:\", bluewincount)\r\n",
        "    print(\"Redwincount:\", redwincount)\r\n",
        "    if winner_ != 0:\r\n",
        "      print(\"Eu errei, meeeeeeeee\")\r\n",
        "      erros = erros + 1\r\n",
        "      print(\"Total de erros:\", erros)\r\n",
        "      print(\"Total de acertos:\", acertos)\r\n",
        "    else:\r\n",
        "      print(\"Hmmm analizando o resultado real da partida, eu acertei hihi\")\r\n",
        "      acertos = acertos + 1\r\n",
        "      print(\"Total de erros:\", erros)\r\n",
        "      print(\"Total de acertos:\", acertos)\r\n",
        "\r\n",
        "    \r\n",
        "  else:\r\n",
        "     bluewincount = bluewincount + 1\r\n",
        "     print(\"Bluewincount:\", bluewincount)\r\n",
        "     print(\"Redwincount:\", redwincount)\r\n",
        "     if winner_ != 1:\r\n",
        "      print(\"Eu errei, meeeeeeeeeeeeeee\")\r\n",
        "      erros = erros + 1\r\n",
        "      print(\"Total de erros:\", erros)\r\n",
        "      print(\"Total de acertos:\", acertos)\r\n",
        "     else:\r\n",
        "      print(\"Hmmm analizando o resultado real da partida, eu acertei hihi\")\r\n",
        "      acertos = acertos + 1\r\n",
        "      print(\"Total de erros:\", erros)\r\n",
        "      print(\"Total de acertos:\", acertos)\r\n",
        "     \r\n",
        "  \r\n",
        "  \r\n",
        "\r\n",
        "\r\n",
        "\r\n",
        "\r\n",
        "\r\n"
      ],
      "execution_count": 150,
      "outputs": [
        {
          "output_type": "stream",
          "text": [
            "INFO:tensorflow:Calling model_fn.\n"
          ],
          "name": "stdout"
        },
        {
          "output_type": "stream",
          "text": [
            "/usr/local/lib/python3.6/dist-packages/tensorflow/python/keras/engine/base_layer_v1.py:1727: UserWarning: `layer.add_variable` is deprecated and will be removed in a future version. Please use `layer.add_weight` method instead.\n",
            "  warnings.warn('`layer.add_variable` is deprecated and '\n"
          ],
          "name": "stderr"
        },
        {
          "output_type": "stream",
          "text": [
            "INFO:tensorflow:Done calling model_fn.\n",
            "INFO:tensorflow:Graph was finalized.\n",
            "INFO:tensorflow:Restoring parameters from /tmp/tmpwh7phvjw/model.ckpt-1170\n",
            "INFO:tensorflow:Running local_init_op.\n",
            "INFO:tensorflow:Done running local_init_op.\n",
            "0\n",
            "2.4146828800439835 % de chance\n",
            "97.58532047271729 % de chance\n",
            "Acho que o vencedor foi o: 0\n",
            "Bluewincount: 0\n",
            "Redwincount: 1\n",
            "Hmmm analizando o resultado real da partida, eu acertei hihi\n",
            "Total de erros: 0\n",
            "Total de acertos: 1\n",
            "1\n",
            "0.269288569688797 % de chance\n",
            "99.73070621490479 % de chance\n",
            "Acho que o vencedor foi o: 0\n",
            "Bluewincount: 0\n",
            "Redwincount: 2\n",
            "Hmmm analizando o resultado real da partida, eu acertei hihi\n",
            "Total de erros: 0\n",
            "Total de acertos: 2\n",
            "2\n",
            "7.8370556235313416 % de chance\n",
            "92.16294884681702 % de chance\n",
            "Acho que o vencedor foi o: 0\n",
            "Bluewincount: 0\n",
            "Redwincount: 3\n",
            "Hmmm analizando o resultado real da partida, eu acertei hihi\n",
            "Total de erros: 0\n",
            "Total de acertos: 3\n",
            "3\n",
            "0.024682682123966515 % de chance\n",
            "99.97531771659851 % de chance\n",
            "Acho que o vencedor foi o: 0\n",
            "Bluewincount: 0\n",
            "Redwincount: 4\n",
            "Hmmm analizando o resultado real da partida, eu acertei hihi\n",
            "Total de erros: 0\n",
            "Total de acertos: 4\n",
            "4\n",
            "38.964858651161194 % de chance\n",
            "61.03513836860657 % de chance\n",
            "Acho que o vencedor foi o: 0\n",
            "Bluewincount: 0\n",
            "Redwincount: 5\n",
            "Hmmm analizando o resultado real da partida, eu acertei hihi\n",
            "Total de erros: 0\n",
            "Total de acertos: 5\n",
            "5\n",
            "98.78782629966736 % de chance\n",
            "1.2121699750423431 % de chance\n",
            "Acho que o vencedor foi o: 1\n",
            "Bluewincount: 1\n",
            "Redwincount: 5\n",
            "Hmmm analizando o resultado real da partida, eu acertei hihi\n",
            "Total de erros: 0\n",
            "Total de acertos: 6\n",
            "6\n",
            "3.4288402646780014 % de chance\n",
            "96.57115340232849 % de chance\n",
            "Acho que o vencedor foi o: 0\n",
            "Bluewincount: 1\n",
            "Redwincount: 6\n",
            "Hmmm analizando o resultado real da partida, eu acertei hihi\n",
            "Total de erros: 0\n",
            "Total de acertos: 7\n",
            "7\n",
            "99.89051818847656 % de chance\n",
            "0.10947874980047345 % de chance\n",
            "Acho que o vencedor foi o: 1\n",
            "Bluewincount: 2\n",
            "Redwincount: 6\n",
            "Hmmm analizando o resultado real da partida, eu acertei hihi\n",
            "Total de erros: 0\n",
            "Total de acertos: 8\n",
            "8\n",
            "34.74062979221344 % de chance\n",
            "65.2593731880188 % de chance\n",
            "Acho que o vencedor foi o: 1\n",
            "Bluewincount: 2\n",
            "Redwincount: 7\n",
            "Eu errei, meeeeeeeee\n",
            "Total de erros: 1\n",
            "Total de acertos: 8\n",
            "9\n",
            "88.11424374580383 % de chance\n",
            "11.885763704776764 % de chance\n",
            "Acho que o vencedor foi o: 1\n",
            "Bluewincount: 3\n",
            "Redwincount: 7\n",
            "Hmmm analizando o resultado real da partida, eu acertei hihi\n",
            "Total de erros: 1\n",
            "Total de acertos: 9\n",
            "10\n",
            "82.54197239875793 % de chance\n",
            "17.458023130893707 % de chance\n",
            "Acho que o vencedor foi o: 1\n",
            "Bluewincount: 4\n",
            "Redwincount: 7\n",
            "Hmmm analizando o resultado real da partida, eu acertei hihi\n",
            "Total de erros: 1\n",
            "Total de acertos: 10\n",
            "11\n",
            "13.019359111785889 % de chance\n",
            "86.98064088821411 % de chance\n",
            "Acho que o vencedor foi o: 0\n",
            "Bluewincount: 4\n",
            "Redwincount: 8\n",
            "Hmmm analizando o resultado real da partida, eu acertei hihi\n",
            "Total de erros: 1\n",
            "Total de acertos: 11\n",
            "12\n",
            "45.01541256904602 % de chance\n",
            "54.98458743095398 % de chance\n",
            "Acho que o vencedor foi o: 1\n",
            "Bluewincount: 4\n",
            "Redwincount: 9\n",
            "Eu errei, meeeeeeeee\n",
            "Total de erros: 2\n",
            "Total de acertos: 11\n",
            "13\n",
            "9.591234475374222 % de chance\n",
            "90.40876626968384 % de chance\n",
            "Acho que o vencedor foi o: 0\n",
            "Bluewincount: 4\n",
            "Redwincount: 10\n",
            "Hmmm analizando o resultado real da partida, eu acertei hihi\n",
            "Total de erros: 2\n",
            "Total de acertos: 12\n",
            "14\n",
            "77.47092843055725 % de chance\n",
            "22.52906560897827 % de chance\n",
            "Acho que o vencedor foi o: 1\n",
            "Bluewincount: 5\n",
            "Redwincount: 10\n",
            "Hmmm analizando o resultado real da partida, eu acertei hihi\n",
            "Total de erros: 2\n",
            "Total de acertos: 13\n",
            "15\n",
            "82.42125511169434 % de chance\n",
            "17.578747868537903 % de chance\n",
            "Acho que o vencedor foi o: 1\n",
            "Bluewincount: 6\n",
            "Redwincount: 10\n",
            "Hmmm analizando o resultado real da partida, eu acertei hihi\n",
            "Total de erros: 2\n",
            "Total de acertos: 14\n",
            "16\n",
            "98.19731712341309 % de chance\n",
            "1.8026825040578842 % de chance\n",
            "Acho que o vencedor foi o: 0\n",
            "Bluewincount: 7\n",
            "Redwincount: 10\n",
            "Eu errei, meeeeeeeeeeeeeee\n",
            "Total de erros: 3\n",
            "Total de acertos: 14\n",
            "17\n",
            "48.46355319023132 % de chance\n",
            "51.53644680976868 % de chance\n",
            "Acho que o vencedor foi o: 1\n",
            "Bluewincount: 7\n",
            "Redwincount: 11\n",
            "Eu errei, meeeeeeeee\n",
            "Total de erros: 4\n",
            "Total de acertos: 14\n",
            "18\n",
            "50.94050168991089 % de chance\n",
            "49.05949532985687 % de chance\n",
            "Acho que o vencedor foi o: 1\n",
            "Bluewincount: 8\n",
            "Redwincount: 11\n",
            "Hmmm analizando o resultado real da partida, eu acertei hihi\n",
            "Total de erros: 4\n",
            "Total de acertos: 15\n",
            "19\n",
            "99.7814416885376 % de chance\n",
            "0.21855586674064398 % de chance\n",
            "Acho que o vencedor foi o: 1\n",
            "Bluewincount: 9\n",
            "Redwincount: 11\n",
            "Hmmm analizando o resultado real da partida, eu acertei hihi\n",
            "Total de erros: 4\n",
            "Total de acertos: 16\n",
            "20\n",
            "96.6790497303009 % de chance\n",
            "3.320952132344246 % de chance\n",
            "Acho que o vencedor foi o: 1\n",
            "Bluewincount: 10\n",
            "Redwincount: 11\n",
            "Hmmm analizando o resultado real da partida, eu acertei hihi\n",
            "Total de erros: 4\n",
            "Total de acertos: 17\n",
            "21\n",
            "97.81575798988342 % de chance\n",
            "2.184242755174637 % de chance\n",
            "Acho que o vencedor foi o: 1\n",
            "Bluewincount: 11\n",
            "Redwincount: 11\n",
            "Hmmm analizando o resultado real da partida, eu acertei hihi\n",
            "Total de erros: 4\n",
            "Total de acertos: 18\n",
            "22\n",
            "63.43457102775574 % de chance\n",
            "36.5654319524765 % de chance\n",
            "Acho que o vencedor foi o: 0\n",
            "Bluewincount: 12\n",
            "Redwincount: 11\n",
            "Eu errei, meeeeeeeeeeeeeee\n",
            "Total de erros: 5\n",
            "Total de acertos: 18\n",
            "23\n",
            "4.032278805971146 % de chance\n",
            "95.96772789955139 % de chance\n",
            "Acho que o vencedor foi o: 0\n",
            "Bluewincount: 12\n",
            "Redwincount: 12\n",
            "Hmmm analizando o resultado real da partida, eu acertei hihi\n",
            "Total de erros: 5\n",
            "Total de acertos: 19\n",
            "24\n",
            "99.43764209747314 % de chance\n",
            "0.5623594857752323 % de chance\n",
            "Acho que o vencedor foi o: 1\n",
            "Bluewincount: 13\n",
            "Redwincount: 12\n",
            "Hmmm analizando o resultado real da partida, eu acertei hihi\n",
            "Total de erros: 5\n",
            "Total de acertos: 20\n",
            "25\n",
            "76.575368642807 % de chance\n",
            "23.424626886844635 % de chance\n",
            "Acho que o vencedor foi o: 1\n",
            "Bluewincount: 14\n",
            "Redwincount: 12\n",
            "Hmmm analizando o resultado real da partida, eu acertei hihi\n",
            "Total de erros: 5\n",
            "Total de acertos: 21\n",
            "26\n",
            "99.65016841888428 % de chance\n",
            "0.3498339792713523 % de chance\n",
            "Acho que o vencedor foi o: 1\n",
            "Bluewincount: 15\n",
            "Redwincount: 12\n",
            "Hmmm analizando o resultado real da partida, eu acertei hihi\n",
            "Total de erros: 5\n",
            "Total de acertos: 22\n"
          ],
          "name": "stdout"
        },
        {
          "output_type": "error",
          "ename": "KeyboardInterrupt",
          "evalue": "ignored",
          "traceback": [
            "\u001b[0;31m---------------------------------------------------------------------------\u001b[0m",
            "\u001b[0;31mKeyboardInterrupt\u001b[0m                         Traceback (most recent call last)",
            "\u001b[0;32m<ipython-input-150-e134c7eab7ec>\u001b[0m in \u001b[0;36m<module>\u001b[0;34m()\u001b[0m\n\u001b[1;32m      7\u001b[0m \u001b[0;34m\u001b[0m\u001b[0m\n\u001b[1;32m      8\u001b[0m \u001b[0;32mfor\u001b[0m \u001b[0m_\u001b[0m \u001b[0;32min\u001b[0m \u001b[0mrange\u001b[0m\u001b[0;34m(\u001b[0m\u001b[0;36m103\u001b[0m\u001b[0;34m)\u001b[0m\u001b[0;34m:\u001b[0m\u001b[0;34m\u001b[0m\u001b[0;34m\u001b[0m\u001b[0m\n\u001b[0;32m----> 9\u001b[0;31m   \u001b[0mtime\u001b[0m\u001b[0;34m.\u001b[0m\u001b[0msleep\u001b[0m\u001b[0;34m(\u001b[0m\u001b[0;36m1\u001b[0m\u001b[0;34m)\u001b[0m\u001b[0;34m\u001b[0m\u001b[0;34m\u001b[0m\u001b[0m\n\u001b[0m\u001b[1;32m     10\u001b[0m   \u001b[0mwinner_\u001b[0m \u001b[0;34m=\u001b[0m \u001b[0meval\u001b[0m\u001b[0;34m.\u001b[0m\u001b[0miat\u001b[0m\u001b[0;34m[\u001b[0m\u001b[0mp\u001b[0m\u001b[0;34m,\u001b[0m\u001b[0;36m30\u001b[0m\u001b[0;34m]\u001b[0m\u001b[0;34m\u001b[0m\u001b[0;34m\u001b[0m\u001b[0m\n\u001b[1;32m     11\u001b[0m   \u001b[0mprint\u001b[0m\u001b[0;34m(\u001b[0m\u001b[0mp\u001b[0m\u001b[0;34m)\u001b[0m\u001b[0;34m\u001b[0m\u001b[0;34m\u001b[0m\u001b[0m\n",
            "\u001b[0;31mKeyboardInterrupt\u001b[0m: "
          ]
        }
      ]
    },
    {
      "cell_type": "code",
      "metadata": {
        "id": "6NNTzAujcsw0",
        "outputId": "454d3e5b-f369-4b7f-a441-8de90f30f0ea",
        "colab": {
          "base_uri": "https://localhost:8080/"
        }
      },
      "source": [
        ""
      ],
      "execution_count": 112,
      "outputs": [
        {
          "output_type": "stream",
          "text": [
            "0\n"
          ],
          "name": "stdout"
        }
      ]
    }
  ]
}
